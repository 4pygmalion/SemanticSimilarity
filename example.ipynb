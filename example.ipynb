{
 "cells": [
  {
   "cell_type": "code",
   "execution_count": 20,
   "metadata": {},
   "outputs": [
    {
     "ename": "MemoryError",
     "evalue": "Unable to allocate 10.6 GiB for an array with shape (16874, 16874) and data type <U10",
     "output_type": "error",
     "traceback": [
      "\u001b[0;31m---------------------------------------------------------------------------\u001b[0m",
      "\u001b[0;31mMemoryError\u001b[0m                               Traceback (most recent call last)",
      "Cell \u001b[0;32mIn[20], line 6\u001b[0m\n\u001b[1;32m      4\u001b[0m node_lv_calculator \u001b[38;5;241m=\u001b[39m NodeLevelSimilarityCalculator()\n\u001b[1;32m      5\u001b[0m node_lv_calculator\u001b[38;5;241m.\u001b[39mset_level()\n\u001b[0;32m----> 6\u001b[0m \u001b[43mnode_lv_calculator\u001b[49m\u001b[38;5;241;43m.\u001b[39;49m\u001b[43mset_mica_mat\u001b[49m\u001b[43m(\u001b[49m\u001b[43m)\u001b[49m\n",
      "File \u001b[0;32m~/repositories/SemanticSimilarity/semantic_similarity/calculator.py:146\u001b[0m, in \u001b[0;36mBaseSimilarityCalculator.set_mica_mat\u001b[0;34m(self)\u001b[0m\n\u001b[1;32m    140\u001b[0m phenotype_id_ascending_level: \u001b[38;5;28mlist\u001b[39m \u001b[38;5;241m=\u001b[39m \u001b[38;5;28msorted\u001b[39m(\n\u001b[1;32m    141\u001b[0m     \u001b[38;5;28mself\u001b[39m\u001b[38;5;241m.\u001b[39mphenotype2level, key\u001b[38;5;241m=\u001b[39m\u001b[38;5;28mself\u001b[39m\u001b[38;5;241m.\u001b[39mphenotype2level\u001b[38;5;241m.\u001b[39mget\n\u001b[1;32m    142\u001b[0m )\n\u001b[1;32m    144\u001b[0m hpoid2idx \u001b[38;5;241m=\u001b[39m {hpo_id: idx \u001b[38;5;28;01mfor\u001b[39;00m idx, hpo_id \u001b[38;5;129;01min\u001b[39;00m \u001b[38;5;28menumerate\u001b[39m(phenotype_id_ascending_level)}\n\u001b[0;32m--> 146\u001b[0m mica_mat \u001b[38;5;241m=\u001b[39m \u001b[43mnp\u001b[49m\u001b[38;5;241;43m.\u001b[39;49m\u001b[43mzeros\u001b[49m\u001b[43m(\u001b[49m\n\u001b[1;32m    147\u001b[0m \u001b[43m    \u001b[49m\u001b[43mshape\u001b[49m\u001b[38;5;241;43m=\u001b[39;49m\u001b[43m(\u001b[49m\n\u001b[1;32m    148\u001b[0m \u001b[43m        \u001b[49m\u001b[38;5;28;43mlen\u001b[39;49m\u001b[43m(\u001b[49m\u001b[43mphenotype_id_ascending_level\u001b[49m\u001b[43m)\u001b[49m\u001b[43m,\u001b[49m\n\u001b[1;32m    149\u001b[0m \u001b[43m        \u001b[49m\u001b[38;5;28;43mlen\u001b[39;49m\u001b[43m(\u001b[49m\u001b[43mphenotype_id_ascending_level\u001b[49m\u001b[43m)\u001b[49m\u001b[43m,\u001b[49m\n\u001b[1;32m    150\u001b[0m \u001b[43m    \u001b[49m\u001b[43m)\u001b[49m\u001b[43m,\u001b[49m\n\u001b[1;32m    151\u001b[0m \u001b[43m    \u001b[49m\u001b[43mdtype\u001b[49m\u001b[38;5;241;43m=\u001b[39;49m\u001b[38;5;124;43m\"\u001b[39;49m\u001b[38;5;124;43m<U10\u001b[39;49m\u001b[38;5;124;43m\"\u001b[39;49m\u001b[43m,\u001b[49m\n\u001b[1;32m    152\u001b[0m \u001b[43m\u001b[49m\u001b[43m)\u001b[49m\n\u001b[1;32m    153\u001b[0m \u001b[38;5;28;01mfor\u001b[39;00m hpo_idx, hpo_id \u001b[38;5;129;01min\u001b[39;00m \u001b[38;5;28menumerate\u001b[39m(phenotype_id_ascending_level):\n\u001b[1;32m    154\u001b[0m     \u001b[38;5;28;01mif\u001b[39;00m \u001b[38;5;129;01mnot\u001b[39;00m hpo_id\u001b[38;5;241m.\u001b[39mstartswith(\u001b[38;5;124m\"\u001b[39m\u001b[38;5;124mHP:\u001b[39m\u001b[38;5;124m\"\u001b[39m):\n",
      "\u001b[0;31mMemoryError\u001b[0m: Unable to allocate 10.6 GiB for an array with shape (16874, 16874) and data type <U10"
     ]
    }
   ],
   "source": [
    "from semantic_similarity.calculator import NodeLevelSimilarityCalculator\n",
    "from semantic_similarity.data_model import Phenotype\n",
    "\n",
    "node_lv_calculator = NodeLevelSimilarityCalculator()"
   ]
  },
  {
   "cell_type": "code",
   "execution_count": 19,
   "metadata": {},
   "outputs": [
    {
     "data": {
      "text/plain": [
       "0.0"
      ]
     },
     "execution_count": 19,
     "metadata": {},
     "output_type": "execute_result"
    }
   ],
   "source": [
    "node_lv_calculator.get_semantic_similarity(\n",
    "    {Phenotype(\"HP:0000003\")}, {Phenotype(\"HP:0000003\")}\n",
    ")"
   ]
  }
 ],
 "metadata": {
  "kernelspec": {
   "display_name": "sem",
   "language": "python",
   "name": "python3"
  },
  "language_info": {
   "codemirror_mode": {
    "name": "ipython",
    "version": 3
   },
   "file_extension": ".py",
   "mimetype": "text/x-python",
   "name": "python",
   "nbconvert_exporter": "python",
   "pygments_lexer": "ipython3",
   "version": "3.8.19"
  }
 },
 "nbformat": 4,
 "nbformat_minor": 2
}
